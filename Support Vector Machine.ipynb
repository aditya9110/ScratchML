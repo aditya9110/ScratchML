{
 "cells": [
  {
   "cell_type": "code",
   "execution_count": 1,
   "id": "cooked-ideal",
   "metadata": {},
   "outputs": [],
   "source": [
    "%config Completer.use_jedi = False"
   ]
  },
  {
   "cell_type": "code",
   "execution_count": 2,
   "id": "informal-indication",
   "metadata": {},
   "outputs": [],
   "source": [
    "import numpy as np\n",
    "import matplotlib.pyplot as plt\n",
    "from matplotlib import style\n",
    "style.use('ggplot')"
   ]
  },
  {
   "cell_type": "code",
   "execution_count": 3,
   "id": "pleased-train",
   "metadata": {},
   "outputs": [],
   "source": [
    "data = {-1:np.array([[1,7],[2,8],[3,8]]), 1:np.array([[5,1],[6,-1],[7,3]])}"
   ]
  },
  {
   "cell_type": "code",
   "execution_count": 4,
   "id": "amazing-connectivity",
   "metadata": {},
   "outputs": [],
   "source": [
    "class SVM:\n",
    "    def __init__(self, visualize=True):\n",
    "        self.visualize = visualize\n",
    "        self.colors = {-1:'r', 1:'b'}\n",
    "        if visualize:\n",
    "            self.fig = plt.figure()\n",
    "            self.ax = self.fig.add_subplot(1,1,1)\n",
    "            \n",
    "    def fit(self, data):\n",
    "        self.data = data\n",
    "        new_data = {}\n",
    "        transform_val = [[1,1],[1,-1],[-1,1],[-1,-1]]\n",
    "        transformed_data = []\n",
    "        for grp in self.data:\n",
    "            for coordinates in self.data[grp]:\n",
    "                for val in coordinates:\n",
    "                    transformed_data.append(val)\n",
    "        \n",
    "        self.max_feature_val = max(transformed_data)\n",
    "        self.min_feature_val = min(transformed_data)\n",
    "        transformed_data = None\n",
    "        step_sizes = [self.max_feature_val * 0.1, self.max_feature_val * 0.01, self.max_feature_val * 0.001]\n",
    "        b_range_multiple = 5\n",
    "        b_multiple = 5\n",
    "        \n",
    "        latest_optimum = self.max_feature_val * 10 # start point\n",
    "        \n",
    "        for step in step_sizes:\n",
    "            w = np.array([latest_optimum, latest_optimum])\n",
    "            optimized = False # for convex problem to check when moved ahead of optimized loc\n",
    "            while not optimized:\n",
    "                for b in np.arange(-1*(self.max_feature_val * b_range_multiple),\n",
    "                                  self.max_feature_val * b_range_multiple, step * b_multiple):\n",
    "                    for t in transform_val:\n",
    "                        w_t = w * t\n",
    "                        found = True\n",
    "                        for grp in self.data:\n",
    "                            for coordinates in self.data[grp]:\n",
    "                                if not grp*(np.dot(w_t, coordinates) + b) >= 1: # yi = (xi.w) + b\n",
    "                                    found = False\n",
    "                        if found:\n",
    "                            new_data[np.linalg.norm(w_t)] = [w_t, b]\n",
    "            \n",
    "                if w[0] < 0:\n",
    "                    optimized = True\n",
    "                    print('Optimized a step!')\n",
    "                else:\n",
    "                    w = w - step\n",
    "            \n",
    "            norms = sorted([n for n in new_data])\n",
    "            opt_choice = new_data[norms[0]]\n",
    "            self.w = opt_choice[0]\n",
    "            self.b = opt_choice[1]\n",
    "            latest_optimum = opt_choice[0][0] + step*2\n",
    "    \n",
    "    def predict(self, features):\n",
    "        # sign(x.w + b)\n",
    "        classify = np.sign(np.dot(np.array(features), self.w) + self.b)\n",
    "        if classify != 0 and self.visualize:\n",
    "            self.ax.scatter(features[0], features[1], s=200, marker='*', c=self.colors[classify])\n",
    "        return classify\n",
    "    \n",
    "    def visualization(self):\n",
    "        [[self.ax.scatter(x[0], x[1], s=100, color=self.colors[i]) for x in data[i]] for i in data]\n",
    "        \n",
    "        # hyperplane => x.w+b\n",
    "        \n",
    "        def hyperplane(x, w, b, v):\n",
    "            return (-w[0]*x-b+v) / w[1]\n",
    "        \n",
    "        datarange = (self.min_feature_val*0.9, self.max_feature_val*1.1)\n",
    "        hyp_x_min = datarange[0]\n",
    "        hyp_x_max = datarange[1]\n",
    "        \n",
    "        # (w.x+b) = 1 -> positive SV hyperplane\n",
    "        psv1 = hyperplane(hyp_x_min, self.w, self.b, 1)\n",
    "        psv2 = hyperplane(hyp_x_max, self.w, self.b, 1)\n",
    "        self.ax.plot([hyp_x_min, hyp_x_max], [psv1, psv2])\n",
    "        \n",
    "        # (w.x+b) = -1 -> negative SV hyperplane\n",
    "        nsv1 = hyperplane(hyp_x_min, self.w, self.b, -1)\n",
    "        nsv2 = hyperplane(hyp_x_max, self.w, self.b, -1)\n",
    "        self.ax.plot([hyp_x_min, hyp_x_max], [nsv1, nsv2])\n",
    "        \n",
    "        db1 = hyperplane(hyp_x_min, self.w, self.b, 0)\n",
    "        db2 = hyperplane(hyp_x_max, self.w, self.b, 0)\n",
    "        self.ax.plot([hyp_x_min, hyp_x_max], [db1, db2])\n",
    "        \n",
    "        plt.show()\n",
    "        "
   ]
  },
  {
   "cell_type": "code",
   "execution_count": 5,
   "id": "immune-soldier",
   "metadata": {},
   "outputs": [
    {
     "name": "stdout",
     "output_type": "stream",
     "text": [
      "Optimized a step!\n",
      "Optimized a step!\n",
      "Optimized a step!\n",
      "[0, 10] : -1.0\n",
      "[1, 3] : -1.0\n",
      "[3, 4] : -1.0\n",
      "[3, 5] : -1.0\n",
      "[4, 5] : -1.0\n",
      "[5, 5] : 1.0\n",
      "[5, 6] : -1.0\n",
      "[6, -5] : 1.0\n",
      "[5, 8] : -1.0\n"
     ]
    },
    {
     "data": {
      "image/png": "[encoded data removed]",
      "text/plain": [
       "<Figure size 432x288 with 1 Axes>"
      ]
     },
     "metadata": {},
     "output_type": "display_data"
    }
   ],
   "source": [
    "svm = SVM(visualize=True)\n",
    "svm.fit(data=data)\n",
    "\n",
    "predictions = [[0,10],\n",
    "               [1,3],\n",
    "               [3,4],\n",
    "               [3,5],\n",
    "               [4,5],\n",
    "               [5,5],\n",
    "               [5,6],\n",
    "               [6,-5],\n",
    "               [5,8]]\n",
    "\n",
    "for p in predictions:\n",
    "    print(p, ':', svm.predict(p))\n",
    "\n",
    "svm.visualization()"
   ]
  }
 ],
 "metadata": {
  "kernelspec": {
   "display_name": "Python 3",
   "language": "python",
   "name": "python3"
  },
  "language_info": {
   "codemirror_mode": {
    "name": "ipython",
    "version": 3
   },
   "file_extension": ".py",
   "mimetype": "text/x-python",
   "name": "python",
   "nbconvert_exporter": "python",
   "pygments_lexer": "ipython3",
   "version": "3.8.6"
  }
 },
 "nbformat": 4,
 "nbformat_minor": 5
}
